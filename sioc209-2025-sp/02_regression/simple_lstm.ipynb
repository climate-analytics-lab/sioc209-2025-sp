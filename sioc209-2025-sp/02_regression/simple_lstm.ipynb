{
 "cells": [
  {
   "cell_type": "markdown",
   "id": "11039f1c-8e2d-4b19-9051-a491130fc0e5",
   "metadata": {},
   "source": [
    "### Simple LSTM regression with Tensorflow"
   ]
  },
  {
   "cell_type": "code",
   "execution_count": 1,
   "id": "871f8414-cd5f-4267-b4b8-be67cc780854",
   "metadata": {},
   "outputs": [],
   "source": [
    "import matplotlib.pyplot as plt\n",
    "import numpy as np\n",
    "\n",
    "from sklearn.model_selection import train_test_split\n",
    "from sklearn.datasets import fetch_openml"
   ]
  },
  {
   "cell_type": "markdown",
   "id": "d89adce7-39db-4863-952d-9738ffecf901",
   "metadata": {
    "tags": []
   },
   "source": [
    "### Data preprocessing"
   ]
  },
  {
   "cell_type": "code",
   "execution_count": 2,
   "id": "9d9c7b40",
   "metadata": {},
   "outputs": [],
   "source": [
    "co2 = fetch_openml(data_id=41187, as_frame=True)\n",
    "dataset = co2.frame[['co2']]\n",
    "\n",
    "# Min/Max scaling\n",
    "dataset_max = dataset.max().values\n",
    "dataset_min = dataset.min().values\n",
    "\n",
    "def unscale(dataset):\n",
    "    return dataset * (dataset_max - dataset_min) + dataset_min\n",
    "\n",
    "def scale(dataset):\n",
    "    return (dataset - dataset_min) / (dataset_max - dataset_min)\n",
    "\n",
    "dataset = scale(dataset)"
   ]
  },
  {
   "cell_type": "code",
   "execution_count": 3,
   "id": "64f138fb",
   "metadata": {},
   "outputs": [],
   "source": [
    "train, test = train_test_split(dataset, test_size=0.1, shuffle=False)"
   ]
  },
  {
   "cell_type": "code",
   "execution_count": 4,
   "id": "97bbf1e8",
   "metadata": {},
   "outputs": [],
   "source": [
    "window_size = 12"
   ]
  },
  {
   "cell_type": "code",
   "execution_count": 5,
   "id": "865e111b",
   "metadata": {},
   "outputs": [
    {
     "data": {
      "text/html": [
       "<div>\n",
       "<style scoped>\n",
       "    .dataframe tbody tr th:only-of-type {\n",
       "        vertical-align: middle;\n",
       "    }\n",
       "\n",
       "    .dataframe tbody tr th {\n",
       "        vertical-align: top;\n",
       "    }\n",
       "\n",
       "    .dataframe thead th {\n",
       "        text-align: right;\n",
       "    }\n",
       "</style>\n",
       "<table border=\"1\" class=\"dataframe\">\n",
       "  <thead>\n",
       "    <tr style=\"text-align: right;\">\n",
       "      <th></th>\n",
       "      <th>co2_0</th>\n",
       "      <th>co2_1</th>\n",
       "      <th>co2_2</th>\n",
       "      <th>co2_3</th>\n",
       "      <th>co2_4</th>\n",
       "      <th>co2_5</th>\n",
       "      <th>co2_6</th>\n",
       "      <th>co2_7</th>\n",
       "      <th>co2_8</th>\n",
       "      <th>co2_9</th>\n",
       "      <th>co2_10</th>\n",
       "      <th>co2_11</th>\n",
       "    </tr>\n",
       "  </thead>\n",
       "  <tbody>\n",
       "    <tr>\n",
       "      <th>11</th>\n",
       "      <td>0.041051</td>\n",
       "      <td>0.039409</td>\n",
       "      <td>0.045977</td>\n",
       "      <td>0.045977</td>\n",
       "      <td>0.080460</td>\n",
       "      <td>0.073892</td>\n",
       "      <td>0.064039</td>\n",
       "      <td>0.055829</td>\n",
       "      <td>0.073892</td>\n",
       "      <td>0.075534</td>\n",
       "      <td>0.070608</td>\n",
       "      <td>0.050903</td>\n",
       "    </tr>\n",
       "    <tr>\n",
       "      <th>12</th>\n",
       "      <td>0.042693</td>\n",
       "      <td>0.041051</td>\n",
       "      <td>0.039409</td>\n",
       "      <td>0.045977</td>\n",
       "      <td>0.045977</td>\n",
       "      <td>0.080460</td>\n",
       "      <td>0.073892</td>\n",
       "      <td>0.064039</td>\n",
       "      <td>0.055829</td>\n",
       "      <td>0.073892</td>\n",
       "      <td>0.075534</td>\n",
       "      <td>0.070608</td>\n",
       "    </tr>\n",
       "    <tr>\n",
       "      <th>13</th>\n",
       "      <td>0.034483</td>\n",
       "      <td>0.042693</td>\n",
       "      <td>0.041051</td>\n",
       "      <td>0.039409</td>\n",
       "      <td>0.045977</td>\n",
       "      <td>0.045977</td>\n",
       "      <td>0.080460</td>\n",
       "      <td>0.073892</td>\n",
       "      <td>0.064039</td>\n",
       "      <td>0.055829</td>\n",
       "      <td>0.073892</td>\n",
       "      <td>0.075534</td>\n",
       "    </tr>\n",
       "    <tr>\n",
       "      <th>14</th>\n",
       "      <td>0.032841</td>\n",
       "      <td>0.034483</td>\n",
       "      <td>0.042693</td>\n",
       "      <td>0.041051</td>\n",
       "      <td>0.039409</td>\n",
       "      <td>0.045977</td>\n",
       "      <td>0.045977</td>\n",
       "      <td>0.080460</td>\n",
       "      <td>0.073892</td>\n",
       "      <td>0.064039</td>\n",
       "      <td>0.055829</td>\n",
       "      <td>0.073892</td>\n",
       "    </tr>\n",
       "    <tr>\n",
       "      <th>15</th>\n",
       "      <td>0.018062</td>\n",
       "      <td>0.032841</td>\n",
       "      <td>0.034483</td>\n",
       "      <td>0.042693</td>\n",
       "      <td>0.041051</td>\n",
       "      <td>0.039409</td>\n",
       "      <td>0.045977</td>\n",
       "      <td>0.045977</td>\n",
       "      <td>0.080460</td>\n",
       "      <td>0.073892</td>\n",
       "      <td>0.064039</td>\n",
       "      <td>0.055829</td>\n",
       "    </tr>\n",
       "    <tr>\n",
       "      <th>...</th>\n",
       "      <td>...</td>\n",
       "      <td>...</td>\n",
       "      <td>...</td>\n",
       "      <td>...</td>\n",
       "      <td>...</td>\n",
       "      <td>...</td>\n",
       "      <td>...</td>\n",
       "      <td>...</td>\n",
       "      <td>...</td>\n",
       "      <td>...</td>\n",
       "      <td>...</td>\n",
       "      <td>...</td>\n",
       "    </tr>\n",
       "    <tr>\n",
       "      <th>1997</th>\n",
       "      <td>0.796388</td>\n",
       "      <td>0.814450</td>\n",
       "      <td>0.825944</td>\n",
       "      <td>0.825944</td>\n",
       "      <td>0.834154</td>\n",
       "      <td>0.839080</td>\n",
       "      <td>0.847291</td>\n",
       "      <td>0.853859</td>\n",
       "      <td>0.855501</td>\n",
       "      <td>0.862069</td>\n",
       "      <td>0.863711</td>\n",
       "      <td>0.865353</td>\n",
       "    </tr>\n",
       "    <tr>\n",
       "      <th>1998</th>\n",
       "      <td>0.798030</td>\n",
       "      <td>0.796388</td>\n",
       "      <td>0.814450</td>\n",
       "      <td>0.825944</td>\n",
       "      <td>0.825944</td>\n",
       "      <td>0.834154</td>\n",
       "      <td>0.839080</td>\n",
       "      <td>0.847291</td>\n",
       "      <td>0.853859</td>\n",
       "      <td>0.855501</td>\n",
       "      <td>0.862069</td>\n",
       "      <td>0.863711</td>\n",
       "    </tr>\n",
       "    <tr>\n",
       "      <th>1999</th>\n",
       "      <td>0.781609</td>\n",
       "      <td>0.798030</td>\n",
       "      <td>0.796388</td>\n",
       "      <td>0.814450</td>\n",
       "      <td>0.825944</td>\n",
       "      <td>0.825944</td>\n",
       "      <td>0.834154</td>\n",
       "      <td>0.839080</td>\n",
       "      <td>0.847291</td>\n",
       "      <td>0.853859</td>\n",
       "      <td>0.855501</td>\n",
       "      <td>0.862069</td>\n",
       "    </tr>\n",
       "    <tr>\n",
       "      <th>2000</th>\n",
       "      <td>0.775041</td>\n",
       "      <td>0.781609</td>\n",
       "      <td>0.798030</td>\n",
       "      <td>0.796388</td>\n",
       "      <td>0.814450</td>\n",
       "      <td>0.825944</td>\n",
       "      <td>0.825944</td>\n",
       "      <td>0.834154</td>\n",
       "      <td>0.839080</td>\n",
       "      <td>0.847291</td>\n",
       "      <td>0.853859</td>\n",
       "      <td>0.855501</td>\n",
       "    </tr>\n",
       "    <tr>\n",
       "      <th>2001</th>\n",
       "      <td>0.771757</td>\n",
       "      <td>0.775041</td>\n",
       "      <td>0.781609</td>\n",
       "      <td>0.798030</td>\n",
       "      <td>0.796388</td>\n",
       "      <td>0.814450</td>\n",
       "      <td>0.825944</td>\n",
       "      <td>0.825944</td>\n",
       "      <td>0.834154</td>\n",
       "      <td>0.839080</td>\n",
       "      <td>0.847291</td>\n",
       "      <td>0.853859</td>\n",
       "    </tr>\n",
       "  </tbody>\n",
       "</table>\n",
       "<p>1991 rows × 12 columns</p>\n",
       "</div>"
      ],
      "text/plain": [
       "         co2_0     co2_1     co2_2     co2_3     co2_4     co2_5     co2_6  \\\n",
       "11    0.041051  0.039409  0.045977  0.045977  0.080460  0.073892  0.064039   \n",
       "12    0.042693  0.041051  0.039409  0.045977  0.045977  0.080460  0.073892   \n",
       "13    0.034483  0.042693  0.041051  0.039409  0.045977  0.045977  0.080460   \n",
       "14    0.032841  0.034483  0.042693  0.041051  0.039409  0.045977  0.045977   \n",
       "15    0.018062  0.032841  0.034483  0.042693  0.041051  0.039409  0.045977   \n",
       "...        ...       ...       ...       ...       ...       ...       ...   \n",
       "1997  0.796388  0.814450  0.825944  0.825944  0.834154  0.839080  0.847291   \n",
       "1998  0.798030  0.796388  0.814450  0.825944  0.825944  0.834154  0.839080   \n",
       "1999  0.781609  0.798030  0.796388  0.814450  0.825944  0.825944  0.834154   \n",
       "2000  0.775041  0.781609  0.798030  0.796388  0.814450  0.825944  0.825944   \n",
       "2001  0.771757  0.775041  0.781609  0.798030  0.796388  0.814450  0.825944   \n",
       "\n",
       "         co2_7     co2_8     co2_9    co2_10    co2_11  \n",
       "11    0.055829  0.073892  0.075534  0.070608  0.050903  \n",
       "12    0.064039  0.055829  0.073892  0.075534  0.070608  \n",
       "13    0.073892  0.064039  0.055829  0.073892  0.075534  \n",
       "14    0.080460  0.073892  0.064039  0.055829  0.073892  \n",
       "15    0.045977  0.080460  0.073892  0.064039  0.055829  \n",
       "...        ...       ...       ...       ...       ...  \n",
       "1997  0.853859  0.855501  0.862069  0.863711  0.865353  \n",
       "1998  0.847291  0.853859  0.855501  0.862069  0.863711  \n",
       "1999  0.839080  0.847291  0.853859  0.855501  0.862069  \n",
       "2000  0.834154  0.839080  0.847291  0.853859  0.855501  \n",
       "2001  0.825944  0.834154  0.839080  0.847291  0.853859  \n",
       "\n",
       "[1991 rows x 12 columns]"
      ]
     },
     "execution_count": 5,
     "metadata": {},
     "output_type": "execute_result"
    }
   ],
   "source": [
    "train.shift(periods=range(window_size)).dropna()"
   ]
  },
  {
   "cell_type": "code",
   "execution_count": 6,
   "id": "24830b88",
   "metadata": {},
   "outputs": [],
   "source": [
    "_train_shifts = train.shift(periods=range(window_size)).dropna()\n",
    "_test_shifts = test.shift(periods=range(window_size)).dropna()\n",
    "\n",
    "X_train, Y_train = _train_shifts[['co2_1', 'co2_2', 'co2_3']], _train_shifts[['co2_0']]\n",
    "X_test, Y_test = _test_shifts[['co2_1', 'co2_2', 'co2_3']], _test_shifts[['co2_0']]"
   ]
  },
  {
   "cell_type": "markdown",
   "id": "28b81718-71f5-4a6a-8f79-5ce37dc87ef5",
   "metadata": {
    "tags": []
   },
   "source": [
    "### Model building/hyperparameter tuning"
   ]
  },
  {
   "cell_type": "code",
   "execution_count": 7,
   "id": "8aac21a9",
   "metadata": {},
   "outputs": [
    {
     "name": "stderr",
     "output_type": "stream",
     "text": [
      "2025-04-21 21:51:04.726362: I metal_plugin/src/device/metal_device.cc:1154] Metal device set to: Apple M2 Max\n",
      "2025-04-21 21:51:04.726384: I metal_plugin/src/device/metal_device.cc:296] systemMemory: 32.00 GB\n",
      "2025-04-21 21:51:04.726388: I metal_plugin/src/device/metal_device.cc:313] maxCacheSize: 10.67 GB\n",
      "2025-04-21 21:51:04.726426: I tensorflow/core/common_runtime/pluggable_device/pluggable_device_factory.cc:305] Could not identify NUMA node of platform GPU ID 0, defaulting to 0. Your kernel may not have been built with NUMA support.\n",
      "2025-04-21 21:51:04.726435: I tensorflow/core/common_runtime/pluggable_device/pluggable_device_factory.cc:271] Created TensorFlow device (/job:localhost/replica:0/task:0/device:GPU:0 with 0 MB memory) -> physical PluggableDevice (device: 0, name: METAL, pci bus id: <undefined>)\n",
      "/Users/watson-parris/miniconda3/envs/sio209_dev/lib/python3.10/site-packages/keras/src/layers/rnn/rnn.py:204: UserWarning: Do not pass an `input_shape`/`input_dim` argument to a layer. When using Sequential models, prefer using an `Input(shape)` object as the first layer in the model instead.\n",
      "  super().__init__(**kwargs)\n"
     ]
    },
    {
     "data": {
      "text/html": [
       "<pre style=\"white-space:pre;overflow-x:auto;line-height:normal;font-family:Menlo,'DejaVu Sans Mono',consolas,'Courier New',monospace\"><span style=\"font-weight: bold\">Model: \"sequential\"</span>\n",
       "</pre>\n"
      ],
      "text/plain": [
       "\u001b[1mModel: \"sequential\"\u001b[0m\n"
      ]
     },
     "metadata": {},
     "output_type": "display_data"
    },
    {
     "data": {
      "text/html": [
       "<pre style=\"white-space:pre;overflow-x:auto;line-height:normal;font-family:Menlo,'DejaVu Sans Mono',consolas,'Courier New',monospace\">┏━━━━━━━━━━━━━━━━━━━━━━━━━━━━━━━━━┳━━━━━━━━━━━━━━━━━━━━━━━━┳━━━━━━━━━━━━━━━┓\n",
       "┃<span style=\"font-weight: bold\"> Layer (type)                    </span>┃<span style=\"font-weight: bold\"> Output Shape           </span>┃<span style=\"font-weight: bold\">       Param # </span>┃\n",
       "┡━━━━━━━━━━━━━━━━━━━━━━━━━━━━━━━━━╇━━━━━━━━━━━━━━━━━━━━━━━━╇━━━━━━━━━━━━━━━┩\n",
       "│ lstm (<span style=\"color: #0087ff; text-decoration-color: #0087ff\">LSTM</span>)                     │ (<span style=\"color: #00d7ff; text-decoration-color: #00d7ff\">None</span>, <span style=\"color: #00af00; text-decoration-color: #00af00\">10</span>)             │           <span style=\"color: #00af00; text-decoration-color: #00af00\">560</span> │\n",
       "├─────────────────────────────────┼────────────────────────┼───────────────┤\n",
       "│ dense (<span style=\"color: #0087ff; text-decoration-color: #0087ff\">Dense</span>)                   │ (<span style=\"color: #00d7ff; text-decoration-color: #00d7ff\">None</span>, <span style=\"color: #00af00; text-decoration-color: #00af00\">1</span>)              │            <span style=\"color: #00af00; text-decoration-color: #00af00\">11</span> │\n",
       "└─────────────────────────────────┴────────────────────────┴───────────────┘\n",
       "</pre>\n"
      ],
      "text/plain": [
       "┏━━━━━━━━━━━━━━━━━━━━━━━━━━━━━━━━━┳━━━━━━━━━━━━━━━━━━━━━━━━┳━━━━━━━━━━━━━━━┓\n",
       "┃\u001b[1m \u001b[0m\u001b[1mLayer (type)                   \u001b[0m\u001b[1m \u001b[0m┃\u001b[1m \u001b[0m\u001b[1mOutput Shape          \u001b[0m\u001b[1m \u001b[0m┃\u001b[1m \u001b[0m\u001b[1m      Param #\u001b[0m\u001b[1m \u001b[0m┃\n",
       "┡━━━━━━━━━━━━━━━━━━━━━━━━━━━━━━━━━╇━━━━━━━━━━━━━━━━━━━━━━━━╇━━━━━━━━━━━━━━━┩\n",
       "│ lstm (\u001b[38;5;33mLSTM\u001b[0m)                     │ (\u001b[38;5;45mNone\u001b[0m, \u001b[38;5;34m10\u001b[0m)             │           \u001b[38;5;34m560\u001b[0m │\n",
       "├─────────────────────────────────┼────────────────────────┼───────────────┤\n",
       "│ dense (\u001b[38;5;33mDense\u001b[0m)                   │ (\u001b[38;5;45mNone\u001b[0m, \u001b[38;5;34m1\u001b[0m)              │            \u001b[38;5;34m11\u001b[0m │\n",
       "└─────────────────────────────────┴────────────────────────┴───────────────┘\n"
      ]
     },
     "metadata": {},
     "output_type": "display_data"
    },
    {
     "data": {
      "text/html": [
       "<pre style=\"white-space:pre;overflow-x:auto;line-height:normal;font-family:Menlo,'DejaVu Sans Mono',consolas,'Courier New',monospace\"><span style=\"font-weight: bold\"> Total params: </span><span style=\"color: #00af00; text-decoration-color: #00af00\">571</span> (2.23 KB)\n",
       "</pre>\n"
      ],
      "text/plain": [
       "\u001b[1m Total params: \u001b[0m\u001b[38;5;34m571\u001b[0m (2.23 KB)\n"
      ]
     },
     "metadata": {},
     "output_type": "display_data"
    },
    {
     "data": {
      "text/html": [
       "<pre style=\"white-space:pre;overflow-x:auto;line-height:normal;font-family:Menlo,'DejaVu Sans Mono',consolas,'Courier New',monospace\"><span style=\"font-weight: bold\"> Trainable params: </span><span style=\"color: #00af00; text-decoration-color: #00af00\">571</span> (2.23 KB)\n",
       "</pre>\n"
      ],
      "text/plain": [
       "\u001b[1m Trainable params: \u001b[0m\u001b[38;5;34m571\u001b[0m (2.23 KB)\n"
      ]
     },
     "metadata": {},
     "output_type": "display_data"
    },
    {
     "data": {
      "text/html": [
       "<pre style=\"white-space:pre;overflow-x:auto;line-height:normal;font-family:Menlo,'DejaVu Sans Mono',consolas,'Courier New',monospace\"><span style=\"font-weight: bold\"> Non-trainable params: </span><span style=\"color: #00af00; text-decoration-color: #00af00\">0</span> (0.00 B)\n",
       "</pre>\n"
      ],
      "text/plain": [
       "\u001b[1m Non-trainable params: \u001b[0m\u001b[38;5;34m0\u001b[0m (0.00 B)\n"
      ]
     },
     "metadata": {},
     "output_type": "display_data"
    }
   ],
   "source": [
    "from keras.models import Sequential\n",
    "from keras.layers import Dense, LSTM\n",
    "\n",
    "model = Sequential()\n",
    "model.add(LSTM(10, activation='tanh', input_shape=(1, 3))) #Note using tanh is much quicker because it's using CuDNN underneath\n",
    "model.add(Dense(1))\n",
    "model.compile(optimizer='adam', loss='mse')\n",
    "model.summary()"
   ]
  },
  {
   "cell_type": "code",
   "execution_count": 8,
   "id": "9309e686-07e6-4f46-8fb5-8c41801ad094",
   "metadata": {},
   "outputs": [
    {
     "name": "stdout",
     "output_type": "stream",
     "text": [
      "Epoch 1/30\n"
     ]
    },
    {
     "name": "stderr",
     "output_type": "stream",
     "text": [
      "2025-04-21 21:51:05.465265: I tensorflow/core/grappler/optimizers/custom_graph_optimizer_registry.cc:117] Plugin optimizer for device_type GPU is enabled.\n",
      "2025-04-21 21:51:05.466476: E tensorflow/core/grappler/optimizers/meta_optimizer.cc:961] PluggableGraphOptimizer failed: INVALID_ARGUMENT: Failed to deserialize the `graph_buf`.\n"
     ]
    },
    {
     "name": "stdout",
     "output_type": "stream",
     "text": [
      "50/50 - 3s - 60ms/step - loss: 0.0429 - val_loss: 0.1352\n",
      "Epoch 2/30\n",
      "50/50 - 0s - 6ms/step - loss: 0.0108 - val_loss: 0.0407\n",
      "Epoch 3/30\n",
      "50/50 - 0s - 6ms/step - loss: 0.0050 - val_loss: 0.0212\n",
      "Epoch 4/30\n",
      "50/50 - 0s - 6ms/step - loss: 0.0032 - val_loss: 0.0128\n",
      "Epoch 5/30\n",
      "50/50 - 0s - 6ms/step - loss: 0.0019 - val_loss: 0.0065\n",
      "Epoch 6/30\n",
      "50/50 - 0s - 6ms/step - loss: 8.8411e-04 - val_loss: 0.0025\n",
      "Epoch 7/30\n",
      "50/50 - 0s - 6ms/step - loss: 3.4888e-04 - val_loss: 7.0573e-04\n",
      "Epoch 8/30\n",
      "50/50 - 0s - 6ms/step - loss: 1.5880e-04 - val_loss: 2.0105e-04\n",
      "Epoch 9/30\n",
      "50/50 - 0s - 6ms/step - loss: 1.2510e-04 - val_loss: 1.5406e-04\n",
      "Epoch 10/30\n",
      "50/50 - 0s - 6ms/step - loss: 1.2192e-04 - val_loss: 1.5219e-04\n",
      "Epoch 11/30\n",
      "50/50 - 0s - 6ms/step - loss: 1.2164e-04 - val_loss: 1.5379e-04\n",
      "Epoch 12/30\n",
      "50/50 - 0s - 6ms/step - loss: 1.2106e-04 - val_loss: 1.4528e-04\n",
      "Epoch 13/30\n",
      "50/50 - 0s - 6ms/step - loss: 1.2097e-04 - val_loss: 1.5203e-04\n",
      "Epoch 14/30\n",
      "50/50 - 0s - 6ms/step - loss: 1.2048e-04 - val_loss: 1.5261e-04\n",
      "Epoch 15/30\n",
      "50/50 - 0s - 6ms/step - loss: 1.2068e-04 - val_loss: 1.4994e-04\n",
      "Epoch 16/30\n",
      "50/50 - 0s - 6ms/step - loss: 1.2034e-04 - val_loss: 1.5982e-04\n",
      "Epoch 17/30\n",
      "50/50 - 0s - 6ms/step - loss: 1.2009e-04 - val_loss: 1.6995e-04\n",
      "Epoch 18/30\n",
      "50/50 - 0s - 6ms/step - loss: 1.2013e-04 - val_loss: 1.7328e-04\n",
      "Epoch 19/30\n",
      "50/50 - 0s - 6ms/step - loss: 1.1973e-04 - val_loss: 1.7949e-04\n",
      "Epoch 20/30\n",
      "50/50 - 0s - 6ms/step - loss: 1.1934e-04 - val_loss: 1.9203e-04\n",
      "Epoch 21/30\n",
      "50/50 - 0s - 6ms/step - loss: 1.1875e-04 - val_loss: 1.8843e-04\n",
      "Epoch 22/30\n",
      "50/50 - 0s - 6ms/step - loss: 1.1944e-04 - val_loss: 1.7092e-04\n",
      "Epoch 23/30\n",
      "50/50 - 0s - 6ms/step - loss: 1.1843e-04 - val_loss: 2.0775e-04\n",
      "Epoch 24/30\n",
      "50/50 - 0s - 6ms/step - loss: 1.1828e-04 - val_loss: 1.7764e-04\n",
      "Epoch 25/30\n",
      "50/50 - 0s - 6ms/step - loss: 1.1775e-04 - val_loss: 2.2552e-04\n",
      "Epoch 26/30\n",
      "50/50 - 0s - 6ms/step - loss: 1.1831e-04 - val_loss: 1.7374e-04\n",
      "Epoch 27/30\n",
      "50/50 - 0s - 6ms/step - loss: 1.1757e-04 - val_loss: 1.8467e-04\n",
      "Epoch 28/30\n",
      "50/50 - 0s - 6ms/step - loss: 1.1817e-04 - val_loss: 2.1333e-04\n",
      "Epoch 29/30\n",
      "50/50 - 0s - 6ms/step - loss: 1.1696e-04 - val_loss: 2.0580e-04\n",
      "Epoch 30/30\n",
      "50/50 - 0s - 6ms/step - loss: 1.1745e-04 - val_loss: 2.2624e-04\n"
     ]
    }
   ],
   "source": [
    "batch_size = 128\n",
    "epochs = 30\n",
    "\n",
    "history = model.fit(X_train.values[:, np.newaxis, :], Y_train.values, validation_split=0.2, epochs=epochs, verbose=2)"
   ]
  },
  {
   "cell_type": "markdown",
   "id": "9158f3f1-ad00-4d84-9457-de05eed97026",
   "metadata": {},
   "source": [
    "### Evaluation and comparison with linear approach"
   ]
  },
  {
   "cell_type": "code",
   "execution_count": 9,
   "id": "3cedfda4",
   "metadata": {},
   "outputs": [
    {
     "name": "stdout",
     "output_type": "stream",
     "text": [
      "\u001b[1m63/63\u001b[0m \u001b[32m━━━━━━━━━━━━━━━━━━━━\u001b[0m\u001b[37m\u001b[0m \u001b[1m0s\u001b[0m 4ms/step\n",
      "\u001b[1m7/7\u001b[0m \u001b[32m━━━━━━━━━━━━━━━━━━━━\u001b[0m\u001b[37m\u001b[0m \u001b[1m0s\u001b[0m 3ms/step\n"
     ]
    }
   ],
   "source": [
    "# CNN validation predictions\n",
    "train_preds = model.predict(X_train.values[:, np.newaxis, :])\n",
    "test_preds = model.predict(X_test.values[:, np.newaxis, :])"
   ]
  },
  {
   "cell_type": "code",
   "execution_count": 10,
   "id": "06a6a7a8-64df-4e5a-8355-cb74e724fa02",
   "metadata": {},
   "outputs": [
    {
     "data": {
      "text/plain": [
       "<matplotlib.legend.Legend at 0x34bbaa1a0>"
      ]
     },
     "execution_count": 10,
     "metadata": {},
     "output_type": "execute_result"
    },
    {
     "data": {
      "image/png": "[encoded data removed]",
      "text/plain": [
       "<Figure size 640x480 with 1 Axes>"
      ]
     },
     "metadata": {},
     "output_type": "display_data"
    }
   ],
   "source": [
    "plt.plot(unscale(Y_train), color=\"black\", linestyle=\"dashed\", label=\"Measurements\")\n",
    "plt.plot(unscale(Y_test), color=\"black\", linestyle=\"dashed\")\n",
    "plt.plot(_test_shifts.index, unscale(test_preds), color=\"tab:red\", alpha=0.4, label=\"LSTM test\")\n",
    "plt.plot(_train_shifts.index, unscale(train_preds), color=\"tab:blue\", alpha=0.4, label=\"LSTM train\")\n",
    "plt.setp(plt.gca(), xlabel=\"Year\", ylabel=\"Monthly average of CO$_2$ concentration (ppm)\", title=\"Monthly average of air samples measurements\\nfrom the Mauna Loa Observatory\")\n",
    "plt.legend()"
   ]
  },
  {
   "cell_type": "code",
   "execution_count": null,
   "id": "d301b125",
   "metadata": {},
   "outputs": [],
   "source": []
  }
 ],
 "metadata": {
  "kernelspec": {
   "display_name": "Python 3 (ipykernel)",
   "language": "python",
   "name": "python3"
  },
  "language_info": {
   "codemirror_mode": {
    "name": "ipython",
    "version": 3
   },
   "file_extension": ".py",
   "mimetype": "text/x-python",
   "name": "python",
   "nbconvert_exporter": "python",
   "pygments_lexer": "ipython3",
   "version": "3.10.14"
  }
 },
 "nbformat": 4,
 "nbformat_minor": 5
}
