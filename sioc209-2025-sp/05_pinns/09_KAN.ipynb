{
 "cells": [
  {
   "cell_type": "markdown",
   "metadata": {
    "slideshow": {
     "slide_type": "slide"
    }
   },
   "source": [
    "# Deep Learning for Geo/Environmental sciences\n",
    "\n",
    "<center><img src=\"../logo_2.png\" alt=\"logo\" width=\"500\"/></center>\n",
    "\n",
    "<em>*Created with ChapGPT</em>"
   ]
  },
  {
   "cell_type": "markdown",
   "metadata": {
    "slideshow": {
     "slide_type": "slide"
    }
   },
   "source": [
    "## Lecture 10: Kolmogorov-Arnold Networks (KAN)\n"
   ]
  },
  {
   "cell_type": "markdown",
   "metadata": {
    "slideshow": {
     "slide_type": "notes"
    }
   },
   "source": [
    "This tutorial is modified from Ziming Liu's tutorial on KANs: https://kindxiaoming.github.io/pykan/index.html. \n",
    "\n",
    "Read the KAN papers [here](https://doi.org/10.48550/arXiv.2404.19756)."
   ]
  },
  {
   "cell_type": "markdown",
   "metadata": {},
   "source": [
    "\n",
    "## Kolmogorov-Arnold representation theorem\n",
    "\n",
    "Kolmogorov-Arnold representation theorem states that if $f$ is a\n",
    "multivariate continuous function on a bounded domain, then it can be\n",
    "written as a finite composition of continuous functions of a single\n",
    "variable and the binary operation of addition. More specifically, for a\n",
    "smooth $f : [0,1]^n \\to \\mathbb{R}$,\n",
    "$f(x) = f(x_1,...,x_n)=\\sum_{q=1}^{2n+1}\\Phi_q(\\sum_{p=1}^n \\phi_{q,p}(x_p))$\n",
    "\n",
    "where $\\phi_{q,p}:[0,1]\\to\\mathbb{R}$ and\n",
    "$\\Phi_q:\\mathbb{R}\\to\\mathbb{R}$. In a sense, they showed that the\n",
    "only true multivariate function is addition, since every other function\n",
    "can be written using univariate functions and sum. However, this 2-Layer\n",
    "width-$(2n+1)$ Kolmogorov-Arnold representation may not be smooth\n",
    "due to its limited expressive power. In KAN, its expressive power is augmented by\n",
    "generalizing it to arbitrary depths and widths.\n"
   ]
  },
  {
   "cell_type": "markdown",
   "metadata": {},
   "source": [
    "## Kolmogorov-Arnold Network (KAN)\n",
    "\n",
    "<center><img src=\"_images/kan_plot.png\" alt=\"logo\" width=\"500\"/></center>\n",
    "\n",
    "The Kolmogorov-Arnold representation can be written in matrix form\n",
    "\n",
    "$f(x)={\\bf \\Phi}_{\\rm out}\\circ{\\bf \\Phi}_{\\rm in}\\circ {\\bf x}$\n",
    "\n",
    "where\n",
    "\n",
    "${\\bf \\Phi}_{\\rm in}= \\begin{pmatrix} \\phi_{1,1}(\\cdot) & \\cdots & \\phi_{1,n}(\\cdot) \\\\ \\vdots & & \\vdots \\\\ \\phi_{2n+1,1}(\\cdot) & \\cdots & \\phi_{2n+1,n}(\\cdot) \\end{pmatrix},\\quad {\\bf \\Phi}_{\\rm out}=\\begin{pmatrix} \\Phi_1(\\cdot) & \\cdots & \\Phi_{2n+1}(\\cdot)\\end{pmatrix}$\n",
    "\n",
    "We notice that both ${\\bf \\Phi}_{\\rm in}$ and\n",
    "${\\bf \\Phi}_{\\rm out}$ are special cases of the following function\n",
    "matrix :${\\bf \\Phi}$ (with :$n_{\\rm in}$ inputs, and\n",
    "$n_{\\rm out}$ outputs), we call a Kolmogorov-Arnold layer:\n",
    "\n",
    "${\\bf \\Phi}= \\begin{pmatrix} \\phi_{1,1}(\\cdot) & \\cdots & \\phi_{1,n_{\\rm in}}(\\cdot) \\\\ \\vdots & & \\vdots \\\\ \\phi_{n_{\\rm out},1}(\\cdot) & \\cdots & \\phi_{n_{\\rm out},n_{\\rm in}}(\\cdot) \\end{pmatrix}$\n",
    "\n",
    "${\\bf \\Phi}_{\\rm in}$ corresponds to\n",
    "$n_{\\rm in}=n, n_{\\rm out}=2n+1$, and ${\\bf \\Phi}_{\\rm out}$\n",
    "corresponds to $n_{\\rm in}=2n+1, n_{\\rm out}=1$.\n",
    "\n",
    "After defining the layer, we can construct a Kolmogorov-Arnold network\n",
    "simply by stacking layers! Let’s say we have $L$ layers, with the\n",
    "$l^{\\rm th}$ layer ${\\bf \\Phi}_l$ have shape\n",
    "$(n_{l+1}, n_{l})$. Then the whole network is\n",
    "\n",
    "$ {\\rm KAN}({\\bf x})={\\bf \\Phi}_{L-1}\\circ\\cdots \\circ{\\bf \\Phi}_1\\circ{\\bf \\Phi}_0\\circ {\\bf x}$\n",
    "\n",
    "In constrast, a Multi-Layer Perceptron is interleaved by linear layers\n",
    "${\\bf W}_l$ and nonlinearities $\\sigma$:\n",
    "\n",
    "${\\rm MLP}({\\bf x})={\\bf W}_{L-1}\\circ\\sigma\\circ\\cdots\\circ {\\bf W}_1\\circ\\sigma\\circ {\\bf W}_0\\circ {\\bf x}$"
   ]
  },
  {
   "cell_type": "markdown",
   "metadata": {},
   "source": [
    "A KAN can be easily visualized. (1) A KAN is simply stack of KAN layers.\n",
    "(2) Each KAN layer can be visualized as a fully-connected layer, with a\n",
    "1D function placed on each edge. Let’s see an example below."
   ]
  },
  {
   "cell_type": "markdown",
   "metadata": {},
   "source": [
    "## Get started with KANs"
   ]
  },
  {
   "cell_type": "markdown",
   "metadata": {},
   "source": [
    "## Example 1: Function Fitting"
   ]
  },
  {
   "cell_type": "markdown",
   "metadata": {},
   "source": [
    "In this example, we will cover how to leverage grid refinement to maximimze KANs’ ability to fit functions intialize model and create dataset"
   ]
  },
  {
   "cell_type": "code",
   "execution_count": 1,
   "metadata": {},
   "outputs": [
    {
     "name": "stdout",
     "output_type": "stream",
     "text": [
      "cpu\n",
      "checkpoint directory created: ./model\n",
      "saving model version 0.0\n"
     ]
    }
   ],
   "source": [
    "from kan import *\n",
    "    \n",
    "device = torch.device('cuda' if torch.cuda.is_available() else 'cpu')\n",
    "print(device)\n",
    "    \n",
    "# initialize KAN with G=3\n",
    "model = KAN(width=[2,1,1], grid=3, k=3, seed=1, device=device)\n",
    "    \n",
    "# create dataset\n",
    "f = lambda x: torch.exp(torch.sin(torch.pi*x[:,[0]]) + x[:,[1]]**2)\n",
    "dataset = create_dataset(f, n_var=2, device=device)"
   ]
  },
  {
   "cell_type": "markdown",
   "metadata": {},
   "source": [
    "Train KAN (grid=3)"
   ]
  },
  {
   "cell_type": "code",
   "execution_count": 2,
   "metadata": {},
   "outputs": [
    {
     "name": "stderr",
     "output_type": "stream",
     "text": [
      "| train_loss: 1.36e-02 | test_loss: 1.39e-02 | reg: 1.17e+01 | : 100%|█| 20/20 [00:01<00:00, 16.81it"
     ]
    },
    {
     "name": "stdout",
     "output_type": "stream",
     "text": [
      "saving model version 0.1\n"
     ]
    },
    {
     "name": "stderr",
     "output_type": "stream",
     "text": [
      "\n"
     ]
    }
   ],
   "source": [
    "model.fit(dataset, opt=\"LBFGS\", steps=20);"
   ]
  },
  {
   "cell_type": "markdown",
   "metadata": {},
   "source": [
    "The loss plateaus. we want a more fine-grained KAN!"
   ]
  },
  {
   "cell_type": "code",
   "execution_count": 3,
   "metadata": {},
   "outputs": [
    {
     "name": "stdout",
     "output_type": "stream",
     "text": [
      "saving model version 0.2\n"
     ]
    }
   ],
   "source": [
    "# initialize a more fine-grained KAN with G=10\n",
    "model = model.refine(10)"
   ]
  },
  {
   "cell_type": "markdown",
   "metadata": {},
   "source": [
    "\n",
    "Train KAN (grid=10)"
   ]
  },
  {
   "cell_type": "code",
   "execution_count": 4,
   "metadata": {},
   "outputs": [
    {
     "name": "stderr",
     "output_type": "stream",
     "text": [
      "| train_loss: 6.49e-04 | test_loss: 6.82e-04 | reg: 1.17e+01 | : 100%|█| 20/20 [00:00<00:00, 23.87it"
     ]
    },
    {
     "name": "stdout",
     "output_type": "stream",
     "text": [
      "saving model version 0.3\n"
     ]
    },
    {
     "name": "stderr",
     "output_type": "stream",
     "text": [
      "\n"
     ]
    }
   ],
   "source": [
    "model.fit(dataset, opt=\"LBFGS\", steps=20);"
   ]
  },
  {
   "cell_type": "markdown",
   "metadata": {},
   "source": [
    "The loss becomes lower. This is good! Now we can even iteratively making\n",
    "grids finer."
   ]
  },
  {
   "cell_type": "code",
   "execution_count": 5,
   "metadata": {},
   "outputs": [
    {
     "name": "stdout",
     "output_type": "stream",
     "text": [
      "checkpoint directory created: ./model\n",
      "saving model version 0.0\n"
     ]
    },
    {
     "name": "stderr",
     "output_type": "stream",
     "text": [
      "| train_loss: 1.35e-02 | test_loss: 1.39e-02 | reg: 1.17e+01 | : 100%|█| 200/200 [00:02<00:00, 67.88\n"
     ]
    },
    {
     "name": "stdout",
     "output_type": "stream",
     "text": [
      "saving model version 0.1\n",
      "saving model version 0.2\n"
     ]
    },
    {
     "name": "stderr",
     "output_type": "stream",
     "text": [
      "| train_loss: 4.65e-04 | test_loss: 4.80e-04 | reg: 1.17e+01 | : 100%|█| 200/200 [00:03<00:00, 58.55\n"
     ]
    },
    {
     "name": "stdout",
     "output_type": "stream",
     "text": [
      "saving model version 0.3\n",
      "saving model version 0.4\n"
     ]
    },
    {
     "name": "stderr",
     "output_type": "stream",
     "text": [
      "| train_loss: 4.15e-05 | test_loss: 5.93e-05 | reg: 1.17e+01 | : 100%|█| 200/200 [00:04<00:00, 47.73\n"
     ]
    },
    {
     "name": "stdout",
     "output_type": "stream",
     "text": [
      "saving model version 0.5\n",
      "saving model version 0.6\n"
     ]
    },
    {
     "name": "stderr",
     "output_type": "stream",
     "text": [
      "| train_loss: 1.66e-05 | test_loss: 4.09e-05 | reg: 1.17e+01 | : 100%|█| 200/200 [00:03<00:00, 53.92\n"
     ]
    },
    {
     "name": "stdout",
     "output_type": "stream",
     "text": [
      "saving model version 0.7\n",
      "saving model version 0.8\n"
     ]
    },
    {
     "name": "stderr",
     "output_type": "stream",
     "text": [
      "| train_loss: 1.08e-05 | test_loss: 3.82e-05 | reg: 1.17e+01 | : 100%|█| 200/200 [00:06<00:00, 29.64"
     ]
    },
    {
     "name": "stdout",
     "output_type": "stream",
     "text": [
      "saving model version 0.9\n"
     ]
    },
    {
     "name": "stderr",
     "output_type": "stream",
     "text": [
      "\n"
     ]
    }
   ],
   "source": [
    "grids = np.array([3,10,20,50,100])\n",
    "\n",
    "train_losses = []\n",
    "test_losses = []\n",
    "steps = 200\n",
    "k = 3\n",
    "    \n",
    "for i in range(grids.shape[0]):\n",
    "    if i == 0:\n",
    "        model = KAN(width=[2,1,1], grid=grids[i], k=k, seed=1, device=device)\n",
    "    if i != 0:\n",
    "        model = model.refine(grids[i])\n",
    "        \n",
    "    results = model.fit(dataset, opt=\"LBFGS\", steps=steps)\n",
    "    train_losses += results['train_loss']\n",
    "    test_losses += results['test_loss']\n",
    "        "
   ]
  },
  {
   "cell_type": "markdown",
   "metadata": {},
   "source": [
    "Training dynamics of losses display staircase structures (loss suddenly drops after grid refinement)"
   ]
  },
  {
   "cell_type": "code",
   "execution_count": 6,
   "metadata": {},
   "outputs": [
    {
     "data": {
      "image/png": "[encoded data removed]",
      "text/plain": [
       "<Figure size 640x480 with 1 Axes>"
      ]
     },
     "metadata": {},
     "output_type": "display_data"
    }
   ],
   "source": [
    "plt.plot(train_losses)\n",
    "plt.plot(test_losses)\n",
    "plt.legend(['train', 'test'])\n",
    "plt.ylabel('RMSE')\n",
    "plt.xlabel('step')\n",
    "plt.yscale('log')"
   ]
  },
  {
   "cell_type": "markdown",
   "metadata": {},
   "source": [
    "Neural scaling laws "
   ]
  },
  {
   "cell_type": "code",
   "execution_count": 7,
   "metadata": {},
   "outputs": [
    {
     "data": {
      "text/plain": [
       "Text(0, 0.5, 'RMSE')"
      ]
     },
     "execution_count": 7,
     "metadata": {},
     "output_type": "execute_result"
    },
    {
     "data": {
      "image/png": "[encoded data removed]",
      "text/plain": [
       "<Figure size 640x480 with 1 Axes>"
      ]
     },
     "metadata": {},
     "output_type": "display_data"
    }
   ],
   "source": [
    "    n_params = 3 * grids\n",
    "    train_vs_G = train_losses[(steps-1)::steps]\n",
    "    test_vs_G = test_losses[(steps-1)::steps]\n",
    "    plt.plot(n_params, train_vs_G, marker=\"o\")\n",
    "    plt.plot(n_params, test_vs_G, marker=\"o\")\n",
    "    plt.plot(n_params, 100*n_params**(-4.), ls=\"--\", color=\"black\")\n",
    "    plt.xscale('log')\n",
    "    plt.yscale('log')\n",
    "    plt.legend(['train', 'test', r'$N^{-4}$'])\n",
    "    plt.xlabel('number of params')\n",
    "    plt.ylabel('RMSE')"
   ]
  },
  {
   "cell_type": "code",
   "execution_count": null,
   "metadata": {},
   "outputs": [],
   "source": []
  }
 ],
 "metadata": {
  "celltoolbar": "Slideshow",
  "kernelspec": {
   "display_name": "Python 3 (ipykernel)",
   "language": "python",
   "name": "python3"
  },
  "language_info": {
   "codemirror_mode": {
    "name": "ipython",
    "version": 3
   },
   "file_extension": ".py",
   "mimetype": "text/x-python",
   "name": "python",
   "nbconvert_exporter": "python",
   "pygments_lexer": "ipython3",
   "version": "3.12.9"
  }
 },
 "nbformat": 4,
 "nbformat_minor": 4
}
