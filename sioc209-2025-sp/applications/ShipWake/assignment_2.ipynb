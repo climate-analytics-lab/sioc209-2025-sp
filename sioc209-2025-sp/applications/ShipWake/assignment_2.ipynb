{
 "cells": [
  {
   "cell_type": "markdown",
   "metadata": {},
   "source": [
    "## Assignment 2: Ship classification"
   ]
  },
  {
   "cell_type": "markdown",
   "metadata": {},
   "source": [
    "In this assignment, you will be working with Xuanting's dataset, which contains 2D data of ship wakes produced from wave simulations. The dataset is available at [Data from: Inferring free surface disturbance properties from Kelvin wakes using convolutional neural network](https://doi.org/10.6075/J0GH9JCX).The goal is to classify the ship wakes into one of three classes: ellipse, monohull, and catamaran.\n",
    "\n",
    "#### Objectives:\n",
    "- Understand the dataset and the problem of classifying ship wakes images.\n",
    "- Explore and adjust the baseline model to enhance performance to learn the effects of key hyperparameters.\n",
    "- Analyze and report on the effectiveness of model adjustments."
   ]
  },
  {
   "cell_type": "markdown",
   "metadata": {},
   "source": [
    "\n",
    "#### Assignment Details:\n",
    "1. **Introduction (10% of grade)**\n",
    "   - Provide a brief overview of the task and its importance in environmental science (1-2 sentences).\n",
    "\n",
    "2. **Model Exploration (30% of grade)**\n",
    "   - Describe the baseline model and dataset:\n",
    "     - Model architecture and reasoning behind its suitability for the task.\n",
    "     - Current performance metrics.\n",
    "   - Implement the model using the provided dataset.\n",
    "\n",
    "3. **Model Adjustment (40% of grade)**\n",
    "   - Make at least two significant adjustments to the model to improve performance. Adjustments might include:\n",
    "     - Changing model parameters (e.g., number of layers, hidden units, etc).\n",
    "     - Modifying the input features (e.g., adding new features, transforming existing features).\n",
    "     - Applying different data pre-processing and augmentation techniques\n",
    "   - Justify each adjustment based on theoretical or empirical evidence.\n",
    "\n",
    "4. **Results Analysis (15% of grade)**\n",
    "   - Compare the performance of the original and adjusted models using appropriate statistical metrics (e.g., precision, recall, F1-score).\n",
    "   - Discuss the effectiveness of each adjustment in improving the model's performance.\n",
    "\n",
    "5. **Conclusion (5% of grade)**\n",
    "   - Summarize key findings and lessons learned from the model adjustments.\n",
    "   - Suggest potential future work."
   ]
  },
  {
   "cell_type": "markdown",
   "metadata": {},
   "source": [
    "\n",
    "#### Rubric:\n",
    "- **Introduction**\n",
    "  - Clarity and completeness of the overview (5%)\n",
    "  - Understanding of the task's relevance (5%)\n",
    "\n",
    "- **Model Exploration**\n",
    "  - Accuracy and detail in the description of each model (10%)\n",
    "  - Correct implementation and reporting of baseline model performance (20%)\n",
    "\n",
    "- **Model Adjustment**\n",
    "  - Creativity and appropriateness of model adjustments (20%)\n",
    "  - Justification of adjustments (10%)\n",
    "  - Implementation accuracy (10%)\n",
    "\n",
    "- **Results Analysis**\n",
    "  - Clarity and accuracy in comparing model performances (10%)\n",
    "  - Depth of discussion on model improvements (5%)\n",
    "\n",
    "- **Conclusion**\n",
    "  - Effectiveness of summary and reflection on the assignment (5%)\n"
   ]
  },
  {
   "cell_type": "markdown",
   "metadata": {},
   "source": [
    "### Submission Guidelines:\n",
    "- Format: Jupyter Notebook with annotations and text descriptions inline. Roughly 5-15 pages, including code and figures, if it were printed.\n",
    "- Deadline: **1 week from the assignment date.**"
   ]
  }
 ],
 "metadata": {
  "kernelspec": {
   "display_name": "Python 3 (ipykernel)",
   "language": "python",
   "name": "python3"
  },
  "language_info": {
   "codemirror_mode": {
    "name": "ipython",
    "version": 3
   },
   "file_extension": ".py",
   "mimetype": "text/x-python",
   "name": "python",
   "nbconvert_exporter": "python",
   "pygments_lexer": "ipython3",
   "version": "3.12.9"
  }
 },
 "nbformat": 4,
 "nbformat_minor": 4
}
